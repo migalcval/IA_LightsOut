{
 "cells": [
  {
   "cell_type": "markdown",
   "id": "23d569ac",
   "metadata": {
    "tags": []
   },
   "source": [
    "# Práctica 4: Planificación automática\n",
    "# Inteligencia Artificial\n",
    "# Grado en Ingeniería Informática - Ingeniería del Software\n",
    "# Universidad de Sevilla"
   ]
  },
  {
   "cell_type": "markdown",
   "id": "7dbcea9b-c41a-4f56-b379-49d0a36d2b49",
   "metadata": {},
   "source": [
    "[PDDL](https://planning.wiki/) (_Planning Domain Definition Language_) es una familia de lenguajes que se ha convertido en el estándar para la especificación de dominios y problemas de planificación automática. A medida que este subcampo de la Inteligencia Artificial ha evolucionado, así lo ha hecho también el lenguaje usado para describir los problemas que estudia. Hoy en día hay, por tanto, varias versiones disponibles de PDDL, con diferentes niveles de expresividad."
   ]
  },
  {
   "cell_type": "markdown",
   "id": "9e19be22-7d15-470b-b6cb-7e8b7e22f721",
   "metadata": {},
   "source": [
    "La [versión 1.2](https://planning.wiki/ref/pddl) de PDDL establece la sintaxis más básica que debe ser entendible por cualquier planificador y es a la que nos referiremos al hablar simplemente de PDDL y la que usaremos en esta práctica."
   ]
  },
  {
   "cell_type": "markdown",
   "id": "1fb87887-be59-4a42-82d3-83d7615e4843",
   "metadata": {},
   "source": [
    "Un problema de planificación automática se especifica en PDDL en dos partes: por un lado, se especifica el dominio del problema, que establece todos aquellos aspectos (predicados y acciones) que son independientes de la situación concreta que se está tratando de resolver; por otro lado, se especifica el problema en sí, estableciendo exactamente qué objetos existen, en qué situación inicial se encuentran y a qué situación final se pretende llegar."
   ]
  },
  {
   "cell_type": "markdown",
   "id": "180f11f6-2fd6-4d64-af48-c9697ff6c669",
   "metadata": {},
   "source": [
    "La sintaxis mínima para el fichero de especificación del dominio es la siguiente:"
   ]
  },
  {
   "cell_type": "markdown",
   "id": "e0b758ff-c2b1-4c66-9393-f709f489ff85",
   "metadata": {},
   "source": [
    "```\n",
    "(define\n",
    "  (domain <nombre_del_dominio>)\n",
    "  (:requirements :strips)\n",
    "  (:predicates\n",
    "    (<nombre_del_predicado> <argumento_1> ... <argumento_m>)\n",
    "    ...\n",
    "  )\n",
    "  (:action <nombre_de_la_acción>\n",
    "    :parameters (<argumento_1> ... <argumento_n>)\n",
    "    :precondition (and\n",
    "      <precondición>\n",
    "      ...\n",
    "    )\n",
    "    :effect (and\n",
    "      <adición>\n",
    "      ...\n",
    "      (not <borrado>)\n",
    "      ...\n",
    "    )\n",
    "  ...\n",
    "  )\n",
    ")\n",
    "```"
   ]
  },
  {
   "cell_type": "markdown",
   "id": "73b69a80-c09f-4fac-996e-7cc66e9f97f9",
   "metadata": {},
   "source": [
    "Por ejemplo, para el problema de la rueda pinchada se podría representar el dominio en un fichero `dominio_rueda_pinchada.pddl` con el siguiente contenido:"
   ]
  },
  {
   "cell_type": "markdown",
   "id": "615bd9bf-a7b7-4e03-9981-d3339cb9eb8d",
   "metadata": {},
   "source": [
    "```\n",
    "(define\n",
    "  (domain dominio_rueda_pinchada)\n",
    "  (:requirements :strips)\n",
    "  (:predicates\n",
    "    (en ?r ?l)\n",
    "    (no_en ?r ?l)\n",
    "  )\n",
    "  (:action quitar_pinchada\n",
    "    :parameters ()\n",
    "    :precondition (and\n",
    "      (en rueda_pinchada eje)\n",
    "    )\n",
    "    :effect (and\n",
    "      (en rueda_pinchada suelo)\n",
    "      (no_en rueda_pinchada eje)\n",
    "      (not (en rueda_pinchada eje))\n",
    "      (not (no_en rueda_pinchada suelo))\n",
    "    )\n",
    "  )\n",
    "  (:action guardar_pinchada\n",
    "    :parameters ()\n",
    "    :precondition (and\n",
    "      (en rueda_pinchada suelo)\n",
    "      (no_en rueda_repuesto maletero)\n",
    "    )\n",
    "    :effect (and\n",
    "      (en rueda_pinchada maletero)\n",
    "      (no_en rueda_pinchada suelo)\n",
    "      (not (en rueda_pinchada suelo))\n",
    "      (not (no_en rueda_pinchada maletero))\n",
    "    )\n",
    "  )\n",
    "  (:action sacar_repuesto\n",
    "    :parameters ()\n",
    "    :precondition (and\n",
    "      (en rueda_repuesto maletero)\n",
    "    )\n",
    "    :effect (and\n",
    "      (en rueda_repuesto suelo)\n",
    "      (no_en rueda_repuesto maletero)\n",
    "      (not (en rueda_repuesto maletero))\n",
    "      (not (no_en rueda_repuesto suelo))\n",
    "    )\n",
    "  )\n",
    "  (:action poner_repuesto\n",
    "    :parameters ()\n",
    "    :precondition (and\n",
    "      (en rueda_repuesto suelo)\n",
    "      (no_en rueda_pinchada eje)\n",
    "    )\n",
    "    :effect (and\n",
    "      (en rueda_repuesto eje)\n",
    "      (no_en rueda_repuesto suelo)\n",
    "      (not (en rueda_repuesto suelo))\n",
    "      (not (no_en rueda_repuesto eje))\n",
    "    )\n",
    "  )\n",
    ")\n",
    "```"
   ]
  },
  {
   "cell_type": "markdown",
   "id": "9eec537e-516c-43d5-88b4-80e61d1e0c2e",
   "metadata": {},
   "source": [
    "La sintaxis mínima para el fichero de especificación del problema es la siguiente:"
   ]
  },
  {
   "cell_type": "markdown",
   "id": "91e4c9e3-a673-45d8-8a41-314dbf28f5dc",
   "metadata": {
    "tags": []
   },
   "source": [
    "```\n",
    "(define\n",
    "  (problem <nombre_del_problema>)\n",
    "  (:domain <dominio_del_problema>)\n",
    "  (:objects\n",
    "    <nombre_de_objeto>\n",
    "    ...\n",
    "  )\n",
    "  (:init\n",
    "    <predicado>\n",
    "    ...\n",
    "  )\n",
    "  (:goal (and\n",
    "      <objetivo>\n",
    "      ...\n",
    "    )\n",
    "  )\n",
    ")\n",
    "```"
   ]
  },
  {
   "cell_type": "markdown",
   "id": "74042693-f195-4096-b84f-6742255ba9c7",
   "metadata": {},
   "source": [
    "Por ejemplo, para el problema de la rueda pinchada se podría representar el problema en un fichero `problema_rueda_pinchada.pddl` con el siguiente contenido:"
   ]
  },
  {
   "cell_type": "markdown",
   "id": "e1704943-d4ad-4ab2-9900-f29cb320f428",
   "metadata": {},
   "source": [
    "```\n",
    "(define\n",
    "  (problem problema_rueda_pinchada)\n",
    "  (:domain dominio_rueda_pinchada)\n",
    "  (:objects\n",
    "    rueda_repuesto rueda_pinchada\n",
    "    eje maletero suelo\n",
    "  )\n",
    "  (:init\n",
    "    (en rueda_repuesto maletero)\n",
    "    (no_en rueda_repuesto suelo)\n",
    "    (no_en rueda_repuesto eje)\n",
    "    (no_en rueda_pinchada maletero)\n",
    "    (no_en rueda_pinchada suelo)\n",
    "    (en rueda_pinchada eje)\n",
    "  )\n",
    "  (:goal (and\n",
    "      (en rueda_repuesto eje)\n",
    "      (en rueda_pinchada maletero)\n",
    "    )\n",
    "  )\n",
    ")\n",
    "```"
   ]
  },
  {
   "cell_type": "markdown",
   "id": "781e0068-6657-4dc9-a595-464366feda81",
   "metadata": {},
   "source": [
    "Una vez creados los ficheros especificando el dominio del problema y la instancia concreta de este, para encontrar una solución se debe utilizar un planificador. En esta práctica utilizaremos [pyperplan](https://github.com/aibasel/pyperplan), que implementa varias heurísticas y algoritmos de búsqueda:"
   ]
  },
  {
   "cell_type": "code",
   "execution_count": 12,
   "id": "273d4614",
   "metadata": {},
   "outputs": [
    {
     "name": "stdout",
     "output_type": "stream",
     "text": [
      "Collecting py2pddl\n",
      "  Cloning https://github.com/remykarem/py2pddl to c:\\users\\jargu\\appdata\\local\\temp\\pip-install-7_wfpj0a\\py2pddl_dad869b50d8749d09db736d3e858b8c8\n",
      "  Resolved https://github.com/remykarem/py2pddl to commit e8b452320652963574a5b144c17bccf6568e4317\n",
      "  Preparing metadata (setup.py): started\n",
      "  Preparing metadata (setup.py): finished with status 'done'\n",
      "Collecting fire==0.3.1 (from py2pddl)\n",
      "  Downloading fire-0.3.1.tar.gz (81 kB)\n",
      "     ---------------------------------------- 0.0/81.2 kB ? eta -:--:--\n",
      "     --------------- ------------------------ 30.7/81.2 kB 1.4 MB/s eta 0:00:01\n",
      "     ---------------------------------------- 81.2/81.2 kB 1.1 MB/s eta 0:00:00\n",
      "  Preparing metadata (setup.py): started\n",
      "  Preparing metadata (setup.py): finished with status 'done'\n",
      "Requirement already satisfied: six in c:\\users\\jargu\\appdata\\local\\programs\\python\\python312\\lib\\site-packages (from fire==0.3.1->py2pddl) (1.16.0)\n",
      "Requirement already satisfied: termcolor in c:\\users\\jargu\\appdata\\local\\programs\\python\\python312\\lib\\site-packages (from fire==0.3.1->py2pddl) (2.5.0)\n",
      "Collecting enum34 (from fire==0.3.1->py2pddl)\n",
      "  Downloading enum34-1.1.10-py3-none-any.whl.metadata (1.6 kB)\n",
      "Downloading enum34-1.1.10-py3-none-any.whl (11 kB)\n",
      "Building wheels for collected packages: py2pddl, fire\n",
      "  Building wheel for py2pddl (setup.py): started\n",
      "  Building wheel for py2pddl (setup.py): finished with status 'done'\n",
      "  Created wheel for py2pddl: filename=py2pddl-1.0.0-py3-none-any.whl size=9666 sha256=c5b3f9f7ce1b84c2a048ca74b209efc5c6623ac319aa181f4261f9dd91e4a549\n",
      "  Stored in directory: C:\\Users\\jargu\\AppData\\Local\\Temp\\pip-ephem-wheel-cache-cr1l_hzx\\wheels\\f4\\d4\\22\\0a9743216279c1ec86e39c4aa89a4a9f57303589d094800834\n",
      "  Building wheel for fire (setup.py): started\n",
      "  Building wheel for fire (setup.py): finished with status 'done'\n",
      "  Created wheel for fire: filename=fire-0.3.1-py2.py3-none-any.whl size=111085 sha256=10ca43b1271d47ea86ca32e96e83a1b40d0e59161d9edd8dff3d4086c55e101d\n",
      "  Stored in directory: c:\\users\\jargu\\appdata\\local\\pip\\cache\\wheels\\69\\0f\\57\\e5d0202ff700f3754852cdd50aac4529d2072e93a9d3e631a1\n",
      "Successfully built py2pddl fire\n",
      "Installing collected packages: enum34, fire, py2pddl\n",
      "Successfully installed enum34-1.1.10 fire-0.3.1 py2pddl-1.0.0\n",
      "Note: you may need to restart the kernel to use updated packages.\n"
     ]
    },
    {
     "name": "stderr",
     "output_type": "stream",
     "text": [
      "  Running command git clone --filter=blob:none --quiet https://github.com/remykarem/py2pddl 'C:\\Users\\jargu\\AppData\\Local\\Temp\\pip-install-7_wfpj0a\\py2pddl_dad869b50d8749d09db736d3e858b8c8'\n",
      "\n",
      "[notice] A new release of pip is available: 24.0 -> 25.0.1\n",
      "[notice] To update, run: python.exe -m pip install --upgrade pip\n"
     ]
    }
   ],
   "source": [
    "%pip install git+https://github.com/remykarem/py2pddl#egg=py2pddl"
   ]
  },
  {
   "cell_type": "code",
   "execution_count": 5,
   "id": "d6ebc25e-4dac-4522-85ff-924cb862804b",
   "metadata": {},
   "outputs": [
    {
     "name": "stdout",
     "output_type": "stream",
     "text": [
      "Collecting pyperplan\n",
      "  Downloading pyperplan-2.1-py2.py3-none-any.whl.metadata (4.3 kB)\n",
      "Requirement already satisfied: wheel in c:\\users\\jargu\\appdata\\local\\programs\\python\\python312\\lib\\site-packages (from pyperplan) (0.45.1)\n",
      "Downloading pyperplan-2.1-py2.py3-none-any.whl (69 kB)\n",
      "   ---------------------------------------- 0.0/69.5 kB ? eta -:--:--\n",
      "   ---------------------------------------- 0.0/69.5 kB ? eta -:--:--\n",
      "   ----- ---------------------------------- 10.2/69.5 kB ? eta -:--:--\n",
      "   ----- ---------------------------------- 10.2/69.5 kB ? eta -:--:--\n",
      "   ----------- ---------------------------- 20.5/69.5 kB 131.3 kB/s eta 0:00:01\n",
      "   ----------------------------------- ---- 61.4/69.5 kB 328.2 kB/s eta 0:00:01\n",
      "   ----------------------------------- ---- 61.4/69.5 kB 328.2 kB/s eta 0:00:01\n",
      "   ----------------------------------- ---- 61.4/69.5 kB 328.2 kB/s eta 0:00:01\n",
      "   ----------------------------------- ---- 61.4/69.5 kB 328.2 kB/s eta 0:00:01\n",
      "   ---------------------------------------- 69.5/69.5 kB 190.0 kB/s eta 0:00:00\n",
      "Installing collected packages: pyperplan\n",
      "Successfully installed pyperplan-2.1\n",
      "Note: you may need to restart the kernel to use updated packages.\n"
     ]
    },
    {
     "name": "stderr",
     "output_type": "stream",
     "text": [
      "\n",
      "[notice] A new release of pip is available: 24.0 -> 25.0.1\n",
      "[notice] To update, run: python.exe -m pip install --upgrade pip\n"
     ]
    },
    {
     "name": "stdout",
     "output_type": "stream",
     "text": [
      "usage: pyperplan [-h] [-l {debug,info,warning,error}]\n",
      "                 [-H {blind,landmark,lmcut,hadd,hff,hmax,hsa}]\n",
      "                 [-s {astar,wastar,gbf,bfs,ehs,ids,sat}]\n",
      "                 [domain] problem\n",
      "\n",
      "positional arguments:\n",
      "  domain\n",
      "  problem\n",
      "\n",
      "options:\n",
      "  -h, --help            show this help message and exit\n",
      "  -l {debug,info,warning,error}, --loglevel {debug,info,warning,error}\n",
      "  -H {blind,landmark,lmcut,hadd,hff,hmax,hsa}, --heuristic {blind,landmark,lmcut,hadd,hff,hmax,hsa}\n",
      "                        Select a heuristic (default: hff)\n",
      "  -s {astar,wastar,gbf,bfs,ehs,ids,sat}, --search {astar,wastar,gbf,bfs,ehs,ids,sat}\n",
      "                        Select a search algorithm from astar, weighted astar,\n",
      "                        greedy best first, breadth first, enforced\n",
      "                        hillclimbing, iterative deepening, sat solve (default:\n",
      "                        bfs)\n"
     ]
    }
   ],
   "source": [
    "%pip install pyperplan\n",
    "!pyperplan --help"
   ]
  },
  {
   "cell_type": "markdown",
   "id": "e0e4ecc8-e69a-425a-a484-3b4b21cf81f3",
   "metadata": {},
   "source": [
    "Una vez instalado, basta ejecutarlo desde consola (obsérvese que para hacerlo desde una celda de Jupyter hay que usar el operador !), indicando la heurística y algoritmo a usar y el dominio e instancia del problema. Si el planificador encuentra una solución al problema, entonces la proporciona en un fichero con el mismo nombre que el de la instancia del problema, pero al que se le ha añadido la extensión soln al final."
   ]
  },
  {
   "cell_type": "markdown",
   "id": "265c0550-61eb-4a43-a608-02065efa8bd9",
   "metadata": {},
   "source": [
    "Buscamos una solución al problema de la rueda pinchada usando el algoritmo $A^{*}$ y la heurística $h^{add}$."
   ]
  },
  {
   "cell_type": "code",
   "execution_count": 6,
   "id": "d9be12dc-231c-4a4e-8083-d43280a61616",
   "metadata": {},
   "outputs": [
    {
     "name": "stdout",
     "output_type": "stream",
     "text": [
      "2025-04-24 16:07:03,012 INFO     using search: astar_search\n",
      "2025-04-24 16:07:03,012 INFO     using heuristic: hAddHeuristic\n",
      "2025-04-24 16:07:03,013 INFO     Parsing Domain c:\\Program Files\\practicas IA\\Práctica_4\\Planificación automática\\dominio_rueda_pinchada.pddl\n",
      "2025-04-24 16:07:03,039 INFO     Parsing Problem c:\\Program Files\\practicas IA\\Práctica_4\\Planificación automática\\problema_rueda_pinchada.pddl\n",
      "2025-04-24 16:07:03,059 INFO     2 Predicates parsed\n",
      "2025-04-24 16:07:03,059 INFO     4 Actions parsed\n",
      "2025-04-24 16:07:03,059 INFO     5 Objects parsed\n",
      "2025-04-24 16:07:03,059 INFO     0 Constants parsed\n",
      "2025-04-24 16:07:03,059 INFO     Grounding start: problema_rueda_pinchada\n",
      "2025-04-24 16:07:03,059 INFO     Relevance analysis removed 4 facts\n",
      "2025-04-24 16:07:03,059 INFO     Grounding end: problema_rueda_pinchada\n",
      "2025-04-24 16:07:03,059 INFO     12 Variables created\n",
      "2025-04-24 16:07:03,059 INFO     4 Operators created\n",
      "2025-04-24 16:07:03,061 INFO     Search start: problema_rueda_pinchada\n",
      "2025-04-24 16:07:03,061 INFO     Initial h value: 6.000000\n",
      "2025-04-24 16:07:03,061 INFO     Goal reached. Start extraction of solution.\n",
      "2025-04-24 16:07:03,061 INFO     5 Nodes expanded\n",
      "2025-04-24 16:07:03,062 INFO     Search end: problema_rueda_pinchada\n",
      "2025-04-24 16:07:03,062 INFO     Search time: 0.0\n",
      "2025-04-24 16:07:03,062 INFO     Plan length: 4\n",
      "2025-04-24 16:07:03,077 INFO     validate could not be found on the PATH so the plan can not be validated.\n"
     ]
    }
   ],
   "source": [
    "!pyperplan -H hadd -s astar dominio_rueda_pinchada.pddl problema_rueda_pinchada.pddl"
   ]
  },
  {
   "cell_type": "markdown",
   "id": "71c6ae55-5f7a-408c-bba1-2c2cf1117737",
   "metadata": {},
   "source": [
    "El paquete [py2pddl](https://github.com/remykarem/py2pddl) facilita la escritura de los ficheros pddl, permitiendo su creación de forma programática. Este paquete no está disponible en el repositorio [PyPI](https://pypi.org/) de paquetes de Python, por lo que su instalación debe realizarse directamente desde GitHub:\n",
    "\n",
    "`pip install git+https://github.com/remykarem/py2pddl#egg=py2pddl`"
   ]
  },
  {
   "cell_type": "markdown",
   "id": "8a3aa011-b30c-41a3-b250-8355fabbd1d3",
   "metadata": {},
   "source": [
    "Una de las funcionalidades de py2pddl es que comprueba la corrección de los argumentos proporcionados a los predicados en cada uso de estos. Para ello se basa en la extensión de PDDL que establece la forma de especificar tipos y subtipos de objetos:"
   ]
  },
  {
   "cell_type": "markdown",
   "id": "2bb13567-4b0a-4fec-aac1-8797d6a4f210",
   "metadata": {},
   "source": [
    "```\n",
    "(define\n",
    "  (domain <nombre_del_dominio>)\n",
    "  (:requirements :strips :typing)\n",
    "  (:types\n",
    "    <nombre_tipo_1> ... <nombre_tipo_M> - object\n",
    "    <nombre_subtipo_1> ... <nombre_subtipo_N> - <nombre_tipo_1>\n",
    "    ...\n",
    "  )\n",
    "  (:predicates\n",
    "    (<nombre_del_predicado> <arg_1> - <tipo_arg_1> ... <arg_m> - <tipo_arg_m>)\n",
    "    ...\n",
    "  )\n",
    "  (:action <nombre_de_la_acción>\n",
    "    :parameters (<arg_1> - <tipo_arg_1> ... <arg_n> - <tipo_arg_n>)\n",
    "    :precondition (and\n",
    "      <precondición>\n",
    "      ...\n",
    "    )\n",
    "    :effect (and\n",
    "      <adición>\n",
    "      ...\n",
    "      (not <borrado>)\n",
    "      ...\n",
    "    )\n",
    "  ...\n",
    "  )\n",
    ")\n",
    "```"
   ]
  },
  {
   "cell_type": "markdown",
   "id": "2cf6a827-330c-4490-9b5d-a6b4ea15bfdd",
   "metadata": {},
   "source": [
    "Para crear el fichero de especificación del dominio con py2pddl hay que definir una clase que herede de la clase `Domain` y en ella usar la función `create_type` para especificar los tipos de objetos y los decoradores `predicate` y `action` para indicar qué métodos son (esquemas de) predicados y cuáles son (esquemas de) acciones. Por ejemplo, en el dominio del mundo de los bloques podríamos especificar que los objetos son de tipo bloque y pypddl se encargaría de realizar todos los chequeos pertinentes."
   ]
  },
  {
   "cell_type": "code",
   "execution_count": 13,
   "id": "85866c5b-4b58-4254-b455-593575004757",
   "metadata": {},
   "outputs": [],
   "source": [
    "from py2pddl import Domain, create_type, predicate, action\n",
    "\n",
    "class MundoBloquesDomain(Domain):  # py2pddl obtiene el nombre del dominio del nombre\n",
    "                                   # de la clase, pero borrando de él la palabra domain\n",
    "    Object = create_type(\"Object\")  # Este es el tipo más general posible y se debe\n",
    "                                    # incluir siempre\n",
    "    Bloque = create_type(\"Bloque\", Object)  # Establecemos el tipo bloque como un\n",
    "                                            # subtipo de object\n",
    "    \n",
    "    @predicate(Bloque)\n",
    "    def sobre_la_mesa(self, b):\n",
    "        \"\"\"Representa que el bloque b está sobre la mesa\"\"\"\n",
    "    \n",
    "    @predicate(Bloque, Bloque)\n",
    "    def sobre(self, b1, b2):\n",
    "        \"\"\"Representa que el bloque b1 está sobre el bloque b2\"\"\"\n",
    "    \n",
    "    @predicate(Bloque)\n",
    "    def despejado(self, b):\n",
    "        \"\"\"Representa que el bloque b no tiene ningún bloque encima\"\"\"\n",
    "    \n",
    "    @predicate(Bloque)\n",
    "    def agarrado(self, b):\n",
    "        \"\"\"Representa que el brazo robótico ha cogido el bloque b\"\"\"\n",
    "    \n",
    "    @predicate()\n",
    "    def brazo_libre(self):\n",
    "        \"\"\"Representa que el brazo robótico no tiene cogido ningún bloque\"\"\"\n",
    "    \n",
    "    @action(Bloque)\n",
    "    def agarrar(self, b):\n",
    "        \"\"\"Representa que el brazo robótico coge el bloque b que está\n",
    "        sobre la mesa\"\"\"\n",
    "        precondiciones = [self.sobre_la_mesa(b),\n",
    "                          self.despejado(b),\n",
    "                          self.brazo_libre()]\n",
    "        efectos = [self.agarrado(b),\n",
    "                   ~self.sobre_la_mesa(b),\n",
    "                   ~self.despejado(b),\n",
    "                   ~self.brazo_libre()]\n",
    "        return precondiciones, efectos\n",
    "    \n",
    "    @action(Bloque)\n",
    "    def bajar(self, b):\n",
    "        \"\"\"Representa que el brazo robótico deja el bloque b sobre la mesa\"\"\"\n",
    "        precondiciones = [self.agarrado(b)]\n",
    "        efectos = [self.sobre_la_mesa(b),\n",
    "                   self.despejado(b),\n",
    "                   self.brazo_libre(),\n",
    "                   ~self.agarrado(b)]\n",
    "        return precondiciones, efectos\n",
    "    \n",
    "    @action(Bloque, Bloque)\n",
    "    def desapilar(self, b1, b2):\n",
    "        \"\"\"Representa que el brazo robótico coge el bloque b1 que está\n",
    "        sobre el bloque b2\"\"\"\n",
    "        precondiciones = [self.sobre(b1, b2),\n",
    "                          self.despejado(b1),\n",
    "                          self.brazo_libre()]\n",
    "        efectos = [self.agarrado(b1),\n",
    "                   self.despejado(b2),\n",
    "                   ~self.sobre(b1, b2),\n",
    "                   ~self.despejado(b1),\n",
    "                   ~self.brazo_libre()]\n",
    "        return precondiciones, efectos\n",
    "    \n",
    "    @action(Bloque, Bloque)\n",
    "    def apilar(self, b1, b2):\n",
    "        \"\"\"Representa que el brazo robótico deja el bloque b1 sobre\n",
    "        el bloque b2\"\"\"\n",
    "        precondiciones = [self.agarrado(b1),\n",
    "                          self.despejado(b2)]\n",
    "        efectos = [self.sobre(b1, b2),\n",
    "                   self.despejado(b1),\n",
    "                   self.brazo_libre(),\n",
    "                   ~self.agarrado(b1),\n",
    "                   ~self.despejado(b2)]\n",
    "        return precondiciones, efectos"
   ]
  },
  {
   "cell_type": "markdown",
   "id": "cb47625e-c927-4d29-ad0a-981d77b03e8b",
   "metadata": {},
   "source": [
    "Creando una instancia de esta clase y usando el método `generate_domain_pddl` de esa instancia se obtiene un fichero con la especificación PDDL del dominio del problema."
   ]
  },
  {
   "cell_type": "code",
   "execution_count": 14,
   "id": "e0c074f4-0c3c-4818-be01-2a119b1f252c",
   "metadata": {},
   "outputs": [
    {
     "name": "stdout",
     "output_type": "stream",
     "text": [
      "Domain PDDL written to dominio_mundo_bloques.pddl.\n"
     ]
    }
   ],
   "source": [
    "dominio = MundoBloquesDomain()\n",
    "dominio.generate_domain_pddl(filename=\"dominio_mundo_bloques\")"
   ]
  },
  {
   "cell_type": "markdown",
   "id": "4eeb14b2-03fd-4a55-af34-a0f33e547cdf",
   "metadata": {},
   "source": [
    "Para crear el fichero de especificación de la instancia del problema con py2pddl hay que definir una clase que herede de la clase del dominio del problema y en ella crear en el método de inicialización los objetos como atributos de la clase, para lo que es útil la función `create_objs`, y usar el decorador `init` sobre el método `init` para especificar el estado inicial y el decorador `goal` sobre el método `goal` para especificar el objetivo."
   ]
  },
  {
   "cell_type": "code",
   "execution_count": 15,
   "id": "89e04581-5f6f-4a44-9d8a-2d3dec750d91",
   "metadata": {},
   "outputs": [],
   "source": [
    "from py2pddl import goal, init\n",
    "\n",
    "class MundoBloquesProblem(MundoBloquesDomain):  # py2pddl obtiene el nombre de la instancia\n",
    "                                                # del nombre de la clase, pero borrando de\n",
    "                                                # él la palabra problem\n",
    "    def __init__(self):\n",
    "        super().__init__()\n",
    "        self.bloques = MundoBloquesDomain.Bloque.create_objs([\"A\", \"B\", \"C\"])\n",
    "        # La expresión\n",
    "        # self.bloques = MundoBloquesDomain.Bloque.create_objs([1, 2, 3], prefix=\"B\")\n",
    "        # crearía los bloques B1, B2 y B3, a los que luego podríamos referirnos mediante\n",
    "        # self.bloques[1], self.bloques[2] y self.bloques[3], respectivamente.\n",
    "    \n",
    "    @init\n",
    "    def init(self):\n",
    "        return [self.sobre(self.bloques[\"A\"], self.bloques[\"C\"]),\n",
    "                self.despejado(self.bloques[\"A\"]),\n",
    "                self.sobre_la_mesa(self.bloques[\"B\"]),\n",
    "                self.despejado(self.bloques[\"B\"]),\n",
    "                self.sobre_la_mesa(self.bloques[\"C\"]),\n",
    "                self.brazo_libre()]\n",
    "    \n",
    "    @goal\n",
    "    def goal(self):\n",
    "        return [self.sobre_la_mesa(self.bloques[\"A\"]),\n",
    "                self.sobre(self.bloques[\"B\"], self.bloques[\"A\"]),\n",
    "                self.sobre(self.bloques[\"C\"], self.bloques[\"B\"])]"
   ]
  },
  {
   "cell_type": "markdown",
   "id": "ab12b7a2-48fd-473c-aa0d-ad8488acdd54",
   "metadata": {},
   "source": [
    "Creando una instancia de esta clase y usando el método `generate_problem_pddl` de esa instancia se obtiene un fichero con la especificación PDDL de la instancia del problema."
   ]
  },
  {
   "cell_type": "code",
   "execution_count": 16,
   "id": "17d912aa-62b6-4068-ab87-d36aa1283866",
   "metadata": {},
   "outputs": [
    {
     "name": "stdout",
     "output_type": "stream",
     "text": [
      "Problem PDDL written to problema_mundo_bloques.pddl.\n"
     ]
    }
   ],
   "source": [
    "problema = MundoBloquesProblem()\n",
    "problema.generate_problem_pddl(filename=\"problema_mundo_bloques\")"
   ]
  },
  {
   "cell_type": "markdown",
   "id": "7ece21af-46c5-4b4e-b6a5-222359f203c5",
   "metadata": {},
   "source": [
    "Buscamos una solución al problema del mundo de los bloques usando el algoritmo $A^{*}$ y la heurística $h^{m\\acute{a}x}$."
   ]
  },
  {
   "cell_type": "code",
   "execution_count": 17,
   "id": "d8e75843-ef8d-4420-8103-1b1f989375af",
   "metadata": {},
   "outputs": [
    {
     "name": "stdout",
     "output_type": "stream",
     "text": [
      "2025-04-24 16:12:16,781 INFO     using search: astar_search\n",
      "2025-04-24 16:12:16,781 INFO     using heuristic: hMaxHeuristic\n",
      "2025-04-24 16:12:16,781 INFO     Parsing Domain c:\\Program Files\\practicas IA\\Práctica_4\\Planificación automática\\dominio_mundo_bloques.pddl\n",
      "2025-04-24 16:12:16,808 INFO     Parsing Problem c:\\Program Files\\practicas IA\\Práctica_4\\Planificación automática\\problema_mundo_bloques.pddl\n",
      "2025-04-24 16:12:16,826 INFO     5 Predicates parsed\n",
      "2025-04-24 16:12:16,826 INFO     4 Actions parsed\n",
      "2025-04-24 16:12:16,826 INFO     3 Objects parsed\n",
      "2025-04-24 16:12:16,826 INFO     0 Constants parsed\n",
      "2025-04-24 16:12:16,826 INFO     Grounding start: mundobloques\n",
      "2025-04-24 16:12:16,827 INFO     Relevance analysis removed 0 facts\n",
      "2025-04-24 16:12:16,827 INFO     Grounding end: mundobloques\n",
      "2025-04-24 16:12:16,827 INFO     19 Variables created\n",
      "2025-04-24 16:12:16,827 INFO     24 Operators created\n",
      "2025-04-24 16:12:16,828 INFO     Search start: mundobloques\n",
      "2025-04-24 16:12:16,828 INFO     Initial h value: 3.000000\n",
      "2025-04-24 16:12:16,830 INFO     Goal reached. Start extraction of solution.\n",
      "2025-04-24 16:12:16,830 INFO     9 Nodes expanded\n",
      "2025-04-24 16:12:16,831 INFO     Search end: mundobloques\n",
      "2025-04-24 16:12:16,831 INFO     Search time: 0.0\n",
      "2025-04-24 16:12:16,831 INFO     Plan length: 6\n",
      "2025-04-24 16:12:16,844 INFO     validate could not be found on the PATH so the plan can not be validated.\n"
     ]
    }
   ],
   "source": [
    "!pyperplan -H hmax -s astar dominio_mundo_bloques.pddl problema_mundo_bloques.pddl"
   ]
  },
  {
   "cell_type": "markdown",
   "id": "03bb4753-9095-4ddd-9e15-147721ba0b99",
   "metadata": {},
   "source": [
    "Aparte del tipado de objetos, existen muchas más extensiones del lenguaje PDDL, como la posibilidad de usar precondiciones negativas en las acciones, la inclusión del predicado de igualdad, la incorporación de variables numéricas, etc. El planificador pyperplan, al estar pensado con un objetivo didáctico, no es compatible con ninguna de ellas. Para la resolución de problemas más complejos de los que se van a considerar en esta práctica debe utilizarse un planificador más completo y eficiente, como puede ser [Fast Downward](https://www.fast-downward.org/)."
   ]
  }
 ],
 "metadata": {
  "kernelspec": {
   "display_name": "Python 3",
   "language": "python",
   "name": "python3"
  },
  "language_info": {
   "codemirror_mode": {
    "name": "ipython",
    "version": 3
   },
   "file_extension": ".py",
   "mimetype": "text/x-python",
   "name": "python",
   "nbconvert_exporter": "python",
   "pygments_lexer": "ipython3",
   "version": "3.12.0"
  }
 },
 "nbformat": 4,
 "nbformat_minor": 5
}
